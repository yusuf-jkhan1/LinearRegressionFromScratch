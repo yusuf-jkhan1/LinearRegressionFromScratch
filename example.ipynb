{
 "metadata": {
  "language_info": {
   "codemirror_mode": {
    "name": "ipython",
    "version": 3
   },
   "file_extension": ".py",
   "mimetype": "text/x-python",
   "name": "python",
   "nbconvert_exporter": "python",
   "pygments_lexer": "ipython3",
   "version": "3.7.4-final"
  },
  "orig_nbformat": 2,
  "kernelspec": {
   "name": "python3",
   "display_name": "Python 3",
   "language": "python"
  }
 },
 "nbformat": 4,
 "nbformat_minor": 2,
 "cells": [
  {
   "cell_type": "code",
   "execution_count": 1,
   "metadata": {},
   "outputs": [],
   "source": [
    "from src import lin_reg\n",
    "import pandas as pd\n",
    "from sklearn.linear_model import LinearRegression"
   ]
  },
  {
   "cell_type": "code",
   "execution_count": 2,
   "metadata": {},
   "outputs": [],
   "source": [
    "cols = [\"Score\",\"GDP per capita\",\"Social support\",\"Healthy life expectancy\"]\n",
    "happy_data = pd.read_csv(\"data/econ_happiness.csv\", usecols=cols)\n",
    "X = happy_data[[\"GDP per capita\",\"Social support\",\"Healthy life expectancy\"]]\n",
    "y = happy_data[[\"Score\"]]"
   ]
  },
  {
   "cell_type": "code",
   "execution_count": 3,
   "metadata": {},
   "outputs": [
    {
     "output_type": "execute_result",
     "data": {
      "text/plain": [
       "0.7263210936340982"
      ]
     },
     "metadata": {},
     "execution_count": 3
    }
   ],
   "source": [
    "scratch_model = lin_reg.LinReg()\n",
    "scratch_model.fit(X,y)\n",
    "scratch_model.score"
   ]
  },
  {
   "cell_type": "code",
   "execution_count": 4,
   "metadata": {},
   "outputs": [
    {
     "output_type": "execute_result",
     "data": {
      "text/plain": [
       "0.7263250030611685"
      ]
     },
     "metadata": {},
     "execution_count": 4
    }
   ],
   "source": [
    "sklearn_model = LinearRegression()\n",
    "sklearn_model.fit(X,y)\n",
    "sklearn_model.score(X,y)"
   ]
  },
  {
   "cell_type": "code",
   "execution_count": null,
   "metadata": {},
   "outputs": [],
   "source": []
  }
 ]
}